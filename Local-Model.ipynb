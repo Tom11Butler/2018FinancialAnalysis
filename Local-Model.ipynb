{
 "cells": [
  {
   "cell_type": "markdown",
   "metadata": {},
   "source": [
    "# Local Model\n",
    "\n",
    "Named **local** as this will all be written in Python 3 with datasets that will be of suitable scale for use on a local machine (of, say, a RAM of 8GB). We do not want to get *too* crazy here, after all. Baby steps."
   ]
  },
  {
   "cell_type": "code",
   "execution_count": 37,
   "metadata": {},
   "outputs": [],
   "source": [
    "import os\n",
    "import numpy as np\n",
    "import pandas as pd"
   ]
  },
  {
   "cell_type": "code",
   "execution_count": 38,
   "metadata": {},
   "outputs": [],
   "source": [
    "STOCKS_PATH = \"data/\""
   ]
  },
  {
   "cell_type": "code",
   "execution_count": 39,
   "metadata": {},
   "outputs": [],
   "source": [
    "def load_stocks_data(stocks_path=STOCKS_PATH):\n",
    "    csv_path = os.path.join(stocks_path, \"2018_Financial_Data.csv\")\n",
    "    return pd.read_csv(csv_path)\n",
    "\n",
    "stocks = load_stocks_data()"
   ]
  },
  {
   "cell_type": "code",
   "execution_count": 40,
   "metadata": {},
   "outputs": [
    {
     "data": {
      "text/html": [
       "<div>\n",
       "<style scoped>\n",
       "    .dataframe tbody tr th:only-of-type {\n",
       "        vertical-align: middle;\n",
       "    }\n",
       "\n",
       "    .dataframe tbody tr th {\n",
       "        vertical-align: top;\n",
       "    }\n",
       "\n",
       "    .dataframe thead th {\n",
       "        text-align: right;\n",
       "    }\n",
       "</style>\n",
       "<table border=\"1\" class=\"dataframe\">\n",
       "  <thead>\n",
       "    <tr style=\"text-align: right;\">\n",
       "      <th></th>\n",
       "      <th>Unnamed: 0</th>\n",
       "      <th>Revenue</th>\n",
       "      <th>Revenue Growth</th>\n",
       "      <th>Cost of Revenue</th>\n",
       "      <th>Gross Profit</th>\n",
       "      <th>R&amp;D Expenses</th>\n",
       "      <th>SG&amp;A Expense</th>\n",
       "      <th>Operating Expenses</th>\n",
       "      <th>Operating Income</th>\n",
       "      <th>Interest Expense</th>\n",
       "      <th>...</th>\n",
       "      <th>Receivables growth</th>\n",
       "      <th>Inventory Growth</th>\n",
       "      <th>Asset Growth</th>\n",
       "      <th>Book Value per Share Growth</th>\n",
       "      <th>Debt Growth</th>\n",
       "      <th>R&amp;D Expense Growth</th>\n",
       "      <th>SG&amp;A Expenses Growth</th>\n",
       "      <th>Sector</th>\n",
       "      <th>2019 PRICE VAR [%]</th>\n",
       "      <th>Class</th>\n",
       "    </tr>\n",
       "  </thead>\n",
       "  <tbody>\n",
       "    <tr>\n",
       "      <th>0</th>\n",
       "      <td>CMCSA</td>\n",
       "      <td>9.450700e+10</td>\n",
       "      <td>0.1115</td>\n",
       "      <td>0.000000e+00</td>\n",
       "      <td>9.450700e+10</td>\n",
       "      <td>0.000000e+00</td>\n",
       "      <td>6.482200e+10</td>\n",
       "      <td>7.549800e+10</td>\n",
       "      <td>1.900900e+10</td>\n",
       "      <td>3.542000e+09</td>\n",
       "      <td>...</td>\n",
       "      <td>0.2570</td>\n",
       "      <td>0.0000</td>\n",
       "      <td>0.3426</td>\n",
       "      <td>0.0722</td>\n",
       "      <td>0.7309</td>\n",
       "      <td>0.0000</td>\n",
       "      <td>0.1308</td>\n",
       "      <td>Consumer Cyclical</td>\n",
       "      <td>32.794573</td>\n",
       "      <td>1</td>\n",
       "    </tr>\n",
       "    <tr>\n",
       "      <th>1</th>\n",
       "      <td>KMI</td>\n",
       "      <td>1.414400e+10</td>\n",
       "      <td>0.0320</td>\n",
       "      <td>7.288000e+09</td>\n",
       "      <td>6.856000e+09</td>\n",
       "      <td>0.000000e+00</td>\n",
       "      <td>6.010000e+08</td>\n",
       "      <td>3.062000e+09</td>\n",
       "      <td>3.794000e+09</td>\n",
       "      <td>1.917000e+09</td>\n",
       "      <td>...</td>\n",
       "      <td>0.0345</td>\n",
       "      <td>-0.0920</td>\n",
       "      <td>-0.0024</td>\n",
       "      <td>0.0076</td>\n",
       "      <td>-0.0137</td>\n",
       "      <td>0.0000</td>\n",
       "      <td>-0.1265</td>\n",
       "      <td>Energy</td>\n",
       "      <td>40.588068</td>\n",
       "      <td>1</td>\n",
       "    </tr>\n",
       "    <tr>\n",
       "      <th>2</th>\n",
       "      <td>INTC</td>\n",
       "      <td>7.084800e+10</td>\n",
       "      <td>0.1289</td>\n",
       "      <td>2.711100e+10</td>\n",
       "      <td>4.373700e+10</td>\n",
       "      <td>1.354300e+10</td>\n",
       "      <td>6.750000e+09</td>\n",
       "      <td>2.042100e+10</td>\n",
       "      <td>2.331600e+10</td>\n",
       "      <td>-1.260000e+08</td>\n",
       "      <td>...</td>\n",
       "      <td>0.1989</td>\n",
       "      <td>0.0387</td>\n",
       "      <td>0.0382</td>\n",
       "      <td>0.1014</td>\n",
       "      <td>-0.0169</td>\n",
       "      <td>0.0390</td>\n",
       "      <td>-0.0942</td>\n",
       "      <td>Technology</td>\n",
       "      <td>30.295514</td>\n",
       "      <td>1</td>\n",
       "    </tr>\n",
       "    <tr>\n",
       "      <th>3</th>\n",
       "      <td>MU</td>\n",
       "      <td>3.039100e+10</td>\n",
       "      <td>0.4955</td>\n",
       "      <td>1.250000e+10</td>\n",
       "      <td>1.789100e+10</td>\n",
       "      <td>2.141000e+09</td>\n",
       "      <td>8.130000e+08</td>\n",
       "      <td>2.897000e+09</td>\n",
       "      <td>1.499400e+10</td>\n",
       "      <td>3.420000e+08</td>\n",
       "      <td>...</td>\n",
       "      <td>0.4573</td>\n",
       "      <td>0.1511</td>\n",
       "      <td>0.2275</td>\n",
       "      <td>0.6395</td>\n",
       "      <td>-0.5841</td>\n",
       "      <td>0.1738</td>\n",
       "      <td>0.0942</td>\n",
       "      <td>Technology</td>\n",
       "      <td>64.213737</td>\n",
       "      <td>1</td>\n",
       "    </tr>\n",
       "    <tr>\n",
       "      <th>4</th>\n",
       "      <td>GE</td>\n",
       "      <td>1.216150e+11</td>\n",
       "      <td>0.0285</td>\n",
       "      <td>9.546100e+10</td>\n",
       "      <td>2.615400e+10</td>\n",
       "      <td>0.000000e+00</td>\n",
       "      <td>1.811100e+10</td>\n",
       "      <td>4.071100e+10</td>\n",
       "      <td>-1.455700e+10</td>\n",
       "      <td>5.059000e+09</td>\n",
       "      <td>...</td>\n",
       "      <td>-0.2781</td>\n",
       "      <td>-0.2892</td>\n",
       "      <td>-0.1575</td>\n",
       "      <td>-0.4487</td>\n",
       "      <td>-0.2297</td>\n",
       "      <td>0.0000</td>\n",
       "      <td>0.0308</td>\n",
       "      <td>Industrials</td>\n",
       "      <td>44.757840</td>\n",
       "      <td>1</td>\n",
       "    </tr>\n",
       "  </tbody>\n",
       "</table>\n",
       "<p>5 rows × 225 columns</p>\n",
       "</div>"
      ],
      "text/plain": [
       "  Unnamed: 0       Revenue  Revenue Growth  Cost of Revenue  Gross Profit  \\\n",
       "0      CMCSA  9.450700e+10          0.1115     0.000000e+00  9.450700e+10   \n",
       "1        KMI  1.414400e+10          0.0320     7.288000e+09  6.856000e+09   \n",
       "2       INTC  7.084800e+10          0.1289     2.711100e+10  4.373700e+10   \n",
       "3         MU  3.039100e+10          0.4955     1.250000e+10  1.789100e+10   \n",
       "4         GE  1.216150e+11          0.0285     9.546100e+10  2.615400e+10   \n",
       "\n",
       "   R&D Expenses  SG&A Expense  Operating Expenses  Operating Income  \\\n",
       "0  0.000000e+00  6.482200e+10        7.549800e+10      1.900900e+10   \n",
       "1  0.000000e+00  6.010000e+08        3.062000e+09      3.794000e+09   \n",
       "2  1.354300e+10  6.750000e+09        2.042100e+10      2.331600e+10   \n",
       "3  2.141000e+09  8.130000e+08        2.897000e+09      1.499400e+10   \n",
       "4  0.000000e+00  1.811100e+10        4.071100e+10     -1.455700e+10   \n",
       "\n",
       "   Interest Expense  ...  Receivables growth  Inventory Growth  Asset Growth  \\\n",
       "0      3.542000e+09  ...              0.2570            0.0000        0.3426   \n",
       "1      1.917000e+09  ...              0.0345           -0.0920       -0.0024   \n",
       "2     -1.260000e+08  ...              0.1989            0.0387        0.0382   \n",
       "3      3.420000e+08  ...              0.4573            0.1511        0.2275   \n",
       "4      5.059000e+09  ...             -0.2781           -0.2892       -0.1575   \n",
       "\n",
       "   Book Value per Share Growth  Debt Growth  R&D Expense Growth  \\\n",
       "0                       0.0722       0.7309              0.0000   \n",
       "1                       0.0076      -0.0137              0.0000   \n",
       "2                       0.1014      -0.0169              0.0390   \n",
       "3                       0.6395      -0.5841              0.1738   \n",
       "4                      -0.4487      -0.2297              0.0000   \n",
       "\n",
       "   SG&A Expenses Growth             Sector  2019 PRICE VAR [%]  Class  \n",
       "0                0.1308  Consumer Cyclical           32.794573      1  \n",
       "1               -0.1265             Energy           40.588068      1  \n",
       "2               -0.0942         Technology           30.295514      1  \n",
       "3                0.0942         Technology           64.213737      1  \n",
       "4                0.0308        Industrials           44.757840      1  \n",
       "\n",
       "[5 rows x 225 columns]"
      ]
     },
     "execution_count": 40,
     "metadata": {},
     "output_type": "execute_result"
    }
   ],
   "source": [
    "stocks.head()"
   ]
  },
  {
   "cell_type": "markdown",
   "metadata": {},
   "source": [
    "## 1. Create a test set\n",
    "\n",
    "### Stratified sampling\n",
    "\n",
    "used stratified sampling based on the sector that the company comes from."
   ]
  },
  {
   "cell_type": "code",
   "execution_count": 41,
   "metadata": {},
   "outputs": [
    {
     "data": {
      "text/plain": [
       "Financial Services        824\n",
       "Healthcare                691\n",
       "Technology                636\n",
       "Industrials               574\n",
       "Consumer Cyclical         506\n",
       "Basic Materials           276\n",
       "Real Estate               255\n",
       "Energy                    248\n",
       "Consumer Defensive        191\n",
       "Utilities                 102\n",
       "Communication Services     89\n",
       "Name: Sector, dtype: int64"
      ]
     },
     "execution_count": 41,
     "metadata": {},
     "output_type": "execute_result"
    }
   ],
   "source": [
    "stocks[\"Sector\"].value_counts()"
   ]
  },
  {
   "cell_type": "code",
   "execution_count": 42,
   "metadata": {},
   "outputs": [],
   "source": [
    "from sklearn.model_selection import StratifiedShuffleSplit\n",
    "\n",
    "split = StratifiedShuffleSplit(n_splits=1, test_size = 0.2, random_state=42)\n",
    "for train_index, test_index in split.split(stocks, stocks[\"Sector\"]):\n",
    "    strat_train_set = stocks.loc[train_index]\n",
    "    strat_test_set = stocks.loc[test_index]"
   ]
  },
  {
   "cell_type": "code",
   "execution_count": 43,
   "metadata": {},
   "outputs": [
    {
     "data": {
      "text/plain": [
       "Financial Services        0.187713\n",
       "Healthcare                0.156997\n",
       "Technology                0.144482\n",
       "Industrials               0.130830\n",
       "Consumer Cyclical         0.114903\n",
       "Basic Materials           0.062571\n",
       "Real Estate               0.058020\n",
       "Energy                    0.056883\n",
       "Consumer Defensive        0.043231\n",
       "Utilities                 0.023891\n",
       "Communication Services    0.020478\n",
       "Name: Sector, dtype: float64"
      ]
     },
     "execution_count": 43,
     "metadata": {},
     "output_type": "execute_result"
    }
   ],
   "source": [
    "strat_test_set[\"Sector\"].value_counts() / len(strat_test_set)"
   ]
  },
  {
   "cell_type": "code",
   "execution_count": 44,
   "metadata": {},
   "outputs": [],
   "source": [
    "for set_ in (strat_train_set, strat_test_set):\n",
    "    set_.drop([\"Unnamed: 0\", \"Class\"], axis=1, inplace=True)"
   ]
  },
  {
   "cell_type": "markdown",
   "metadata": {},
   "source": [
    "Drop both *Unnamed: 0* and *Class* because there is no need for the ticker symbol and the latter is derived on if *2019 PRICE VAR [%]* is positive or negative."
   ]
  },
  {
   "cell_type": "markdown",
   "metadata": {},
   "source": [
    "## 2. Visualise the dataset\n",
    "\n",
    "Look for correlations in the dataset."
   ]
  },
  {
   "cell_type": "code",
   "execution_count": 47,
   "metadata": {},
   "outputs": [],
   "source": [
    "stocks = strat_train_set.copy()"
   ]
  },
  {
   "cell_type": "code",
   "execution_count": 48,
   "metadata": {},
   "outputs": [],
   "source": [
    "corr_matrix = stocks.corr()"
   ]
  },
  {
   "cell_type": "code",
   "execution_count": 63,
   "metadata": {},
   "outputs": [
    {
     "data": {
      "text/plain": [
       "2019 PRICE VAR [%]                     1.000000\n",
       "operatingCycle                         0.185847\n",
       "cashConversionCycle                    0.111524\n",
       "5Y Net Income Growth (per Share)       0.078612\n",
       "10Y Operating CF Growth (per Share)    0.077201\n",
       "                                         ...   \n",
       "Graham Number                         -0.040675\n",
       "Tangible Book Value per Share         -0.040897\n",
       "dividendpaidAndCapexCoverageRatios    -0.096792\n",
       "capitalExpenditureCoverageRatios      -0.096858\n",
       "operatingProfitMargin                       NaN\n",
       "Name: 2019 PRICE VAR [%], Length: 222, dtype: float64"
      ]
     },
     "execution_count": 63,
     "metadata": {},
     "output_type": "execute_result"
    }
   ],
   "source": [
    "corr_matrix[\"2019 PRICE VAR [%]\"].sort_values(ascending=False)"
   ]
  },
  {
   "cell_type": "markdown",
   "metadata": {},
   "source": [
    "There are very weak correlations with the the price variance. This was to be expected - if there were a significant correlation with at least one variable, then the stock market may not be as chaotic as it is.\n",
    "\n",
    "Pick out a few of the top correlations and make a scatter plot to see if a visual reveals anything more."
   ]
  },
  {
   "cell_type": "code",
   "execution_count": 65,
   "metadata": {},
   "outputs": [
    {
     "data": {
      "text/plain": [
       "array([[<matplotlib.axes._subplots.AxesSubplot object at 0x7f9e7acc9810>,\n",
       "        <matplotlib.axes._subplots.AxesSubplot object at 0x7f9e7b500b10>,\n",
       "        <matplotlib.axes._subplots.AxesSubplot object at 0x7f9e7b6add90>,\n",
       "        <matplotlib.axes._subplots.AxesSubplot object at 0x7f9e7b6dfa50>],\n",
       "       [<matplotlib.axes._subplots.AxesSubplot object at 0x7f9e7b718dd0>,\n",
       "        <matplotlib.axes._subplots.AxesSubplot object at 0x7f9e7b74ca90>,\n",
       "        <matplotlib.axes._subplots.AxesSubplot object at 0x7f9e7b784f10>,\n",
       "        <matplotlib.axes._subplots.AxesSubplot object at 0x7f9e7b7b7ad0>],\n",
       "       [<matplotlib.axes._subplots.AxesSubplot object at 0x7f9e7b7c0650>,\n",
       "        <matplotlib.axes._subplots.AxesSubplot object at 0x7f9e7b7f2fd0>,\n",
       "        <matplotlib.axes._subplots.AxesSubplot object at 0x7f9e7b86ae90>,\n",
       "        <matplotlib.axes._subplots.AxesSubplot object at 0x7f9e7b89eb50>],\n",
       "       [<matplotlib.axes._subplots.AxesSubplot object at 0x7f9e7b8e0ed0>,\n",
       "        <matplotlib.axes._subplots.AxesSubplot object at 0x7f9e7b913b90>,\n",
       "        <matplotlib.axes._subplots.AxesSubplot object at 0x7f9e7b953f10>,\n",
       "        <matplotlib.axes._subplots.AxesSubplot object at 0x7f9e7b989bd0>]],\n",
       "      dtype=object)"
      ]
     },
     "execution_count": 65,
     "metadata": {},
     "output_type": "execute_result"
    },
    {
     "data": {
      "image/png": "[encoded data removed]",
      "text/plain": [
       "<Figure size 864x648 with 16 Axes>"
      ]
     },
     "metadata": {
      "needs_background": "light"
     },
     "output_type": "display_data"
    }
   ],
   "source": [
    "from pandas.plotting import scatter_matrix\n",
    "\n",
    "attributes = [\"2019 PRICE VAR [%]\", \"operatingCycle\", \"cashConversionCycle\"\n",
    "             , \"5Y Net Income Growth (per Share)\"]\n",
    "scatter_matrix(stocks[attributes], figsize=(12,9))"
   ]
  },
  {
   "cell_type": "markdown",
   "metadata": {},
   "source": [
    "The *operatingCycle* and *cashConversionCycle* plots were disappointing - investigate this more to see if there is a lot of missing data."
   ]
  },
  {
   "cell_type": "code",
   "execution_count": 58,
   "metadata": {},
   "outputs": [
    {
     "name": "stdout",
     "output_type": "stream",
     "text": [
      "Pct null values: 0.9982920580700256\n",
      "Pct null values: 0.9982920580700256\n"
     ]
    }
   ],
   "source": [
    "for col in [\"operatingCycle\", \"cashConversionCycle\"]:\n",
    "    print('Pct null values: {}'.format(stocks[stocks[col].isna()].shape[0] / stocks.shape[0]))"
   ]
  },
  {
   "cell_type": "markdown",
   "metadata": {},
   "source": [
    "There we have it - over $99.8$% of vaules were null. This will be discarded from the data."
   ]
  },
  {
   "cell_type": "code",
   "execution_count": 62,
   "metadata": {},
   "outputs": [
    {
     "data": {
      "text/plain": [
       "array([[<matplotlib.axes._subplots.AxesSubplot object at 0x7f9e7cb49510>,\n",
       "        <matplotlib.axes._subplots.AxesSubplot object at 0x7f9e7ce81b10>,\n",
       "        <matplotlib.axes._subplots.AxesSubplot object at 0x7f9e7ceca710>,\n",
       "        <matplotlib.axes._subplots.AxesSubplot object at 0x7f9e7cef8f10>],\n",
       "       [<matplotlib.axes._subplots.AxesSubplot object at 0x7f9e7cf34750>,\n",
       "        <matplotlib.axes._subplots.AxesSubplot object at 0x7f9e7cf63e50>,\n",
       "        <matplotlib.axes._subplots.AxesSubplot object at 0x7f9e7cf9d690>,\n",
       "        <matplotlib.axes._subplots.AxesSubplot object at 0x7f9e7d10ee90>],\n",
       "       [<matplotlib.axes._subplots.AxesSubplot object at 0x7f9e7d118a10>,\n",
       "        <matplotlib.axes._subplots.AxesSubplot object at 0x7f9e7d1533d0>,\n",
       "        <matplotlib.axes._subplots.AxesSubplot object at 0x7f9e7d1be710>,\n",
       "        <matplotlib.axes._subplots.AxesSubplot object at 0x7f9e7d1f1f10>],\n",
       "       [<matplotlib.axes._subplots.AxesSubplot object at 0x7f9e7d234750>,\n",
       "        <matplotlib.axes._subplots.AxesSubplot object at 0x7f9e7d267f50>,\n",
       "        <matplotlib.axes._subplots.AxesSubplot object at 0x7f9e7d2a9790>,\n",
       "        <matplotlib.axes._subplots.AxesSubplot object at 0x7f9e7d2dbf90>]],\n",
       "      dtype=object)"
      ]
     },
     "execution_count": 62,
     "metadata": {},
     "output_type": "execute_result"
    },
    {
     "data": {
      "image/png": "[encoded data removed]",
      "text/plain": [
       "<Figure size 864x648 with 16 Axes>"
      ]
     },
     "metadata": {
      "needs_background": "light"
     },
     "output_type": "display_data"
    }
   ],
   "source": [
    "attributes = [\"2019 PRICE VAR [%]\", \"5Y Net Income Growth (per Share)\"\n",
    "             , \"10Y Operating CF Growth (per Share)\", \"5Y Revenue Growth (per Share)\"]\n",
    "scatter_matrix(stocks[attributes], figsize=(12,9))"
   ]
  },
  {
   "cell_type": "markdown",
   "metadata": {},
   "source": [
    "Each of these distributions look like a lot of companies will have data missing and filled only with a zero. This can be spotted by the highly dense straight lines on the axes in each of the scatter plots."
   ]
  },
  {
   "cell_type": "markdown",
   "metadata": {},
   "source": [
    "## 3. Feature Engineering\n",
    "\n",
    "*no ideas on this yet*"
   ]
  },
  {
   "cell_type": "markdown",
   "metadata": {},
   "source": [
    "## 4. Prepare the data for machine learning algorithms"
   ]
  },
  {
   "cell_type": "code",
   "execution_count": 66,
   "metadata": {},
   "outputs": [],
   "source": [
    "stocks = strat_train_set.drop(\"2019 PRICE VAR [%]\", axis=1)\n",
    "stocks_labels = strat_train_set[\"2019 PRICE VAR [%]\"].copy()"
   ]
  },
  {
   "cell_type": "code",
   "execution_count": 67,
   "metadata": {},
   "outputs": [],
   "source": [
    "from sklearn.impute import SimpleImputer\n",
    "\n",
    "imputer = SimpleImputer(strategy=\"median\")"
   ]
  },
  {
   "cell_type": "code",
   "execution_count": 68,
   "metadata": {},
   "outputs": [
    {
     "data": {
      "text/plain": [
       "SimpleImputer(add_indicator=False, copy=True, fill_value=None,\n",
       "              missing_values=nan, strategy='median', verbose=0)"
      ]
     },
     "execution_count": 68,
     "metadata": {},
     "output_type": "execute_result"
    }
   ],
   "source": [
    "stocks_num = stocks.drop([\"Sector\"], axis=1)\n",
    "imputer.fit(stocks_num)"
   ]
  },
  {
   "cell_type": "code",
   "execution_count": 69,
   "metadata": {},
   "outputs": [],
   "source": [
    "X = imputer.transform(stocks_num)"
   ]
  },
  {
   "cell_type": "code",
   "execution_count": 70,
   "metadata": {},
   "outputs": [],
   "source": [
    "stocks_tr = pd.DataFrame(X, columns = stocks_num.columns\n",
    "                        , index = stocks_num.index)"
   ]
  },
  {
   "cell_type": "code",
   "execution_count": 71,
   "metadata": {},
   "outputs": [
    {
     "data": {
      "text/html": [
       "<div>\n",
       "<style scoped>\n",
       "    .dataframe tbody tr th:only-of-type {\n",
       "        vertical-align: middle;\n",
       "    }\n",
       "\n",
       "    .dataframe tbody tr th {\n",
       "        vertical-align: top;\n",
       "    }\n",
       "\n",
       "    .dataframe thead th {\n",
       "        text-align: right;\n",
       "    }\n",
       "</style>\n",
       "<table border=\"1\" class=\"dataframe\">\n",
       "  <thead>\n",
       "    <tr style=\"text-align: right;\">\n",
       "      <th></th>\n",
       "      <th>Revenue</th>\n",
       "      <th>Revenue Growth</th>\n",
       "      <th>Cost of Revenue</th>\n",
       "      <th>Gross Profit</th>\n",
       "      <th>R&amp;D Expenses</th>\n",
       "      <th>SG&amp;A Expense</th>\n",
       "      <th>Operating Expenses</th>\n",
       "      <th>Operating Income</th>\n",
       "      <th>Interest Expense</th>\n",
       "      <th>Earnings before Tax</th>\n",
       "      <th>...</th>\n",
       "      <th>10Y Dividend per Share Growth (per Share)</th>\n",
       "      <th>5Y Dividend per Share Growth (per Share)</th>\n",
       "      <th>3Y Dividend per Share Growth (per Share)</th>\n",
       "      <th>Receivables growth</th>\n",
       "      <th>Inventory Growth</th>\n",
       "      <th>Asset Growth</th>\n",
       "      <th>Book Value per Share Growth</th>\n",
       "      <th>Debt Growth</th>\n",
       "      <th>R&amp;D Expense Growth</th>\n",
       "      <th>SG&amp;A Expenses Growth</th>\n",
       "    </tr>\n",
       "  </thead>\n",
       "  <tbody>\n",
       "    <tr>\n",
       "      <th>4085</th>\n",
       "      <td>5.923000e+06</td>\n",
       "      <td>0.2441</td>\n",
       "      <td>4.081000e+06</td>\n",
       "      <td>1842000.0</td>\n",
       "      <td>1746000.0</td>\n",
       "      <td>6825000.0</td>\n",
       "      <td>8571000.0</td>\n",
       "      <td>-6729000.0</td>\n",
       "      <td>0.0</td>\n",
       "      <td>-6700000.0</td>\n",
       "      <td>...</td>\n",
       "      <td>0.0000</td>\n",
       "      <td>0.0000</td>\n",
       "      <td>0.0000</td>\n",
       "      <td>0.6419</td>\n",
       "      <td>-0.0275</td>\n",
       "      <td>-0.3924</td>\n",
       "      <td>-0.5285</td>\n",
       "      <td>0.0000</td>\n",
       "      <td>0.8093</td>\n",
       "      <td>0.0955</td>\n",
       "    </tr>\n",
       "    <tr>\n",
       "      <th>1919</th>\n",
       "      <td>1.502932e+09</td>\n",
       "      <td>0.3987</td>\n",
       "      <td>1.141886e+09</td>\n",
       "      <td>361046000.0</td>\n",
       "      <td>0.0</td>\n",
       "      <td>179316000.0</td>\n",
       "      <td>260539000.0</td>\n",
       "      <td>100507000.0</td>\n",
       "      <td>265000.0</td>\n",
       "      <td>117073000.0</td>\n",
       "      <td>...</td>\n",
       "      <td>-1.0000</td>\n",
       "      <td>-1.0000</td>\n",
       "      <td>-1.0000</td>\n",
       "      <td>-0.2676</td>\n",
       "      <td>0.0495</td>\n",
       "      <td>0.1136</td>\n",
       "      <td>0.1315</td>\n",
       "      <td>-0.4433</td>\n",
       "      <td>0.0000</td>\n",
       "      <td>0.0187</td>\n",
       "    </tr>\n",
       "    <tr>\n",
       "      <th>2778</th>\n",
       "      <td>7.192670e+08</td>\n",
       "      <td>0.0382</td>\n",
       "      <td>4.488320e+08</td>\n",
       "      <td>270435000.0</td>\n",
       "      <td>4183000.0</td>\n",
       "      <td>67552000.0</td>\n",
       "      <td>85325000.0</td>\n",
       "      <td>185110000.0</td>\n",
       "      <td>70924000.0</td>\n",
       "      <td>132699000.0</td>\n",
       "      <td>...</td>\n",
       "      <td>0.1024</td>\n",
       "      <td>0.4596</td>\n",
       "      <td>0.2679</td>\n",
       "      <td>0.1873</td>\n",
       "      <td>1.3029</td>\n",
       "      <td>0.1896</td>\n",
       "      <td>0.0781</td>\n",
       "      <td>0.3878</td>\n",
       "      <td>0.3250</td>\n",
       "      <td>0.1551</td>\n",
       "    </tr>\n",
       "    <tr>\n",
       "      <th>1477</th>\n",
       "      <td>1.771456e+09</td>\n",
       "      <td>0.3210</td>\n",
       "      <td>1.361431e+09</td>\n",
       "      <td>410025000.0</td>\n",
       "      <td>0.0</td>\n",
       "      <td>93558000.0</td>\n",
       "      <td>341085000.0</td>\n",
       "      <td>68940000.0</td>\n",
       "      <td>147003000.0</td>\n",
       "      <td>-179245000.0</td>\n",
       "      <td>...</td>\n",
       "      <td>0.0000</td>\n",
       "      <td>0.0000</td>\n",
       "      <td>0.0000</td>\n",
       "      <td>0.0185</td>\n",
       "      <td>-0.0356</td>\n",
       "      <td>0.0415</td>\n",
       "      <td>40.7030</td>\n",
       "      <td>0.6131</td>\n",
       "      <td>0.0000</td>\n",
       "      <td>-0.1090</td>\n",
       "    </tr>\n",
       "    <tr>\n",
       "      <th>3983</th>\n",
       "      <td>3.227500e+07</td>\n",
       "      <td>0.0474</td>\n",
       "      <td>0.000000e+00</td>\n",
       "      <td>32275000.0</td>\n",
       "      <td>0.0</td>\n",
       "      <td>20348000.0</td>\n",
       "      <td>21615000.0</td>\n",
       "      <td>10660000.0</td>\n",
       "      <td>0.0</td>\n",
       "      <td>10647000.0</td>\n",
       "      <td>...</td>\n",
       "      <td>-0.0029</td>\n",
       "      <td>-0.0292</td>\n",
       "      <td>-0.0635</td>\n",
       "      <td>0.0000</td>\n",
       "      <td>0.0000</td>\n",
       "      <td>0.0464</td>\n",
       "      <td>0.0545</td>\n",
       "      <td>-1.0000</td>\n",
       "      <td>0.0000</td>\n",
       "      <td>0.0561</td>\n",
       "    </tr>\n",
       "  </tbody>\n",
       "</table>\n",
       "<p>5 rows × 221 columns</p>\n",
       "</div>"
      ],
      "text/plain": [
       "           Revenue  Revenue Growth  Cost of Revenue  Gross Profit  \\\n",
       "4085  5.923000e+06          0.2441     4.081000e+06     1842000.0   \n",
       "1919  1.502932e+09          0.3987     1.141886e+09   361046000.0   \n",
       "2778  7.192670e+08          0.0382     4.488320e+08   270435000.0   \n",
       "1477  1.771456e+09          0.3210     1.361431e+09   410025000.0   \n",
       "3983  3.227500e+07          0.0474     0.000000e+00    32275000.0   \n",
       "\n",
       "      R&D Expenses  SG&A Expense  Operating Expenses  Operating Income  \\\n",
       "4085     1746000.0     6825000.0           8571000.0        -6729000.0   \n",
       "1919           0.0   179316000.0         260539000.0       100507000.0   \n",
       "2778     4183000.0    67552000.0          85325000.0       185110000.0   \n",
       "1477           0.0    93558000.0         341085000.0        68940000.0   \n",
       "3983           0.0    20348000.0          21615000.0        10660000.0   \n",
       "\n",
       "      Interest Expense  Earnings before Tax  ...  \\\n",
       "4085               0.0           -6700000.0  ...   \n",
       "1919          265000.0          117073000.0  ...   \n",
       "2778        70924000.0          132699000.0  ...   \n",
       "1477       147003000.0         -179245000.0  ...   \n",
       "3983               0.0           10647000.0  ...   \n",
       "\n",
       "      10Y Dividend per Share Growth (per Share)  \\\n",
       "4085                                     0.0000   \n",
       "1919                                    -1.0000   \n",
       "2778                                     0.1024   \n",
       "1477                                     0.0000   \n",
       "3983                                    -0.0029   \n",
       "\n",
       "      5Y Dividend per Share Growth (per Share)  \\\n",
       "4085                                    0.0000   \n",
       "1919                                   -1.0000   \n",
       "2778                                    0.4596   \n",
       "1477                                    0.0000   \n",
       "3983                                   -0.0292   \n",
       "\n",
       "      3Y Dividend per Share Growth (per Share)  Receivables growth  \\\n",
       "4085                                    0.0000              0.6419   \n",
       "1919                                   -1.0000             -0.2676   \n",
       "2778                                    0.2679              0.1873   \n",
       "1477                                    0.0000              0.0185   \n",
       "3983                                   -0.0635              0.0000   \n",
       "\n",
       "      Inventory Growth  Asset Growth  Book Value per Share Growth  \\\n",
       "4085           -0.0275       -0.3924                      -0.5285   \n",
       "1919            0.0495        0.1136                       0.1315   \n",
       "2778            1.3029        0.1896                       0.0781   \n",
       "1477           -0.0356        0.0415                      40.7030   \n",
       "3983            0.0000        0.0464                       0.0545   \n",
       "\n",
       "      Debt Growth  R&D Expense Growth  SG&A Expenses Growth  \n",
       "4085       0.0000              0.8093                0.0955  \n",
       "1919      -0.4433              0.0000                0.0187  \n",
       "2778       0.3878              0.3250                0.1551  \n",
       "1477       0.6131              0.0000               -0.1090  \n",
       "3983      -1.0000              0.0000                0.0561  \n",
       "\n",
       "[5 rows x 221 columns]"
      ]
     },
     "execution_count": 71,
     "metadata": {},
     "output_type": "execute_result"
    }
   ],
   "source": [
    "stocks_tr.head()"
   ]
  },
  {
   "cell_type": "markdown",
   "metadata": {},
   "source": [
    "### 5.1 Handling text attributes"
   ]
  },
  {
   "cell_type": "code",
   "execution_count": 76,
   "metadata": {},
   "outputs": [],
   "source": [
    "stocks_cat = stocks[[\"Sector\"]]"
   ]
  },
  {
   "cell_type": "code",
   "execution_count": 77,
   "metadata": {},
   "outputs": [
    {
     "data": {
      "text/plain": [
       "<3513x11 sparse matrix of type '<class 'numpy.float64'>'\n",
       "\twith 3513 stored elements in Compressed Sparse Row format>"
      ]
     },
     "execution_count": 77,
     "metadata": {},
     "output_type": "execute_result"
    }
   ],
   "source": [
    "from sklearn.preprocessing import OneHotEncoder\n",
    "cat_encoder = OneHotEncoder()\n",
    "stocks_cat_1hot = cat_encoder.fit_transform(stocks_cat)\n",
    "stocks_cat_1hot"
   ]
  },
  {
   "cell_type": "markdown",
   "metadata": {},
   "source": [
    "### 5.2 Custom Transformers\n",
    "\n",
    "*Reserving the space in anticipation of feature engineering*"
   ]
  },
  {
   "cell_type": "markdown",
   "metadata": {},
   "source": [
    "### 5.3 Pipelines"
   ]
  },
  {
   "cell_type": "code",
   "execution_count": 78,
   "metadata": {},
   "outputs": [],
   "source": [
    "from sklearn.pipeline import Pipeline\n",
    "from sklearn.preprocessing import StandardScaler"
   ]
  },
  {
   "cell_type": "code",
   "execution_count": 79,
   "metadata": {},
   "outputs": [],
   "source": [
    "num_pipeline = Pipeline([\n",
    "    ('imputer', SimpleImputer(strategy=\"median\"))\n",
    "    , ('std_scaler', StandardScaler())\n",
    "])\n",
    "\n",
    "stocks_num_tr = num_pipeline.fit_transform(stocks_num)"
   ]
  },
  {
   "cell_type": "code",
   "execution_count": 80,
   "metadata": {},
   "outputs": [],
   "source": [
    "from sklearn.compose import ColumnTransformer\n",
    "\n",
    "num_attribs = list(stocks_num)\n",
    "cat_attribs = [\"Sector\"]\n",
    "\n",
    "full_pipeline = ColumnTransformer([\n",
    "    (\"num\", num_pipeline, num_attribs)\n",
    "    , (\"cat\", OneHotEncoder(), cat_attribs)\n",
    "])\n",
    "\n",
    "stocks_prepared = full_pipeline.fit_transform(stocks)"
   ]
  },
  {
   "cell_type": "markdown",
   "metadata": {},
   "source": [
    "## 6. Select and train a model\n",
    "\n",
    "### 6.1 Start off with a simple Linear Regression"
   ]
  },
  {
   "cell_type": "code",
   "execution_count": 82,
   "metadata": {},
   "outputs": [
    {
     "data": {
      "text/plain": [
       "LinearRegression(copy_X=True, fit_intercept=True, n_jobs=None, normalize=False)"
      ]
     },
     "execution_count": 82,
     "metadata": {},
     "output_type": "execute_result"
    }
   ],
   "source": [
    "from sklearn.linear_model import LinearRegression\n",
    "\n",
    "lin_reg = LinearRegression()\n",
    "lin_reg.fit(stocks_prepared, stocks_labels)"
   ]
  },
  {
   "cell_type": "code",
   "execution_count": 83,
   "metadata": {},
   "outputs": [
    {
     "name": "stdout",
     "output_type": "stream",
     "text": [
      "Predictions: [12.84814453 15.59423828 17.73583984 35.83349609 21.63574219]\n",
      "Labels: [93.75000582076622, 1.8006005938353835, 45.081757985134715, 55.30753820894285, 78.99077197058554]\n"
     ]
    }
   ],
   "source": [
    "some_data = stocks.iloc[:5]\n",
    "some_labels = stocks_labels[:5]\n",
    "some_data_prepared = full_pipeline.transform(some_data)\n",
    "\n",
    "print(\"Predictions:\", lin_reg.predict(some_data_prepared))\n",
    "print(\"Labels:\", list(some_labels))"
   ]
  },
  {
   "cell_type": "code",
   "execution_count": 85,
   "metadata": {},
   "outputs": [
    {
     "data": {
      "text/plain": [
       "52.09332970893826"
      ]
     },
     "execution_count": 85,
     "metadata": {},
     "output_type": "execute_result"
    }
   ],
   "source": [
    "from sklearn.metrics import mean_squared_error\n",
    "stocks_predictions = lin_reg.predict(stocks_prepared)\n",
    "lin_mse = mean_squared_error(stocks_labels, stocks_predictions)\n",
    "lin_rmse = np.sqrt(lin_mse)\n",
    "lin_rmse"
   ]
  },
  {
   "cell_type": "markdown",
   "metadata": {},
   "source": [
    "---"
   ]
  },
  {
   "cell_type": "code",
   "execution_count": 92,
   "metadata": {},
   "outputs": [
    {
     "data": {
      "text/plain": [
       "20.44901997339327"
      ]
     },
     "execution_count": 92,
     "metadata": {},
     "output_type": "execute_result"
    }
   ],
   "source": [
    "from sklearn.ensemble import RandomForestRegressor\n",
    "forest_reg = RandomForestRegressor()\n",
    "forest_reg.fit(stocks_prepared, stocks_labels)\n",
    "\n",
    "stocks_predictions = forest_reg.predict(stocks_prepared)\n",
    "forest_mse = mean_squared_error(stocks_labels, stocks_predictions)\n",
    "forest_rmse = np.sqrt(forest_mse)\n",
    "forest_rmse"
   ]
  },
  {
   "cell_type": "markdown",
   "metadata": {},
   "source": [
    "---"
   ]
  },
  {
   "cell_type": "code",
   "execution_count": null,
   "metadata": {},
   "outputs": [
    {
     "name": "stdout",
     "output_type": "stream",
     "text": [
      "Scores: [-4.98897875e+03 -1.02279421e+05 -4.32959304e+11 -1.13371002e+08\n",
      " -2.62529260e+03 -6.63091359e+06 -9.60056325e+06 -3.50803887e+11\n",
      " -1.93515108e+05 -1.52278675e+07]\n",
      "Mean: -78390832478.77156\n",
      "Standard Deviation: 157818222364.48615\n",
      "\n",
      "\n",
      "\n"
     ]
    }
   ],
   "source": [
    "from sklearn.model_selection import cross_val_score\n",
    "\n",
    "for model_name, model in [('Linear Regression', lin_reg)('Random Forest Regressor', forest_reg)]:\n",
    "    scores = cross_val_score(model, stocks_prepared, stocks_labels\n",
    "                             , scoring=\"neg_mean_squared_error\", cv=10)\n",
    "    display_scores(scores)\n",
    "    print(\"\\n\\n\")"
   ]
  },
  {
   "cell_type": "code",
   "execution_count": 89,
   "metadata": {},
   "outputs": [],
   "source": [
    "def display_scores(scores):\n",
    "    print(\"Scores:\", scores)\n",
    "    print(\"Mean:\", scores.mean())\n",
    "    print(\"Standard Deviation:\", scores.std())"
   ]
  },
  {
   "cell_type": "markdown",
   "metadata": {},
   "source": []
  }
 ],
 "metadata": {
  "kernelspec": {
   "display_name": "Python 3",
   "language": "python",
   "name": "python3"
  },
  "language_info": {
   "codemirror_mode": {
    "name": "ipython",
    "version": 3
   },
   "file_extension": ".py",
   "mimetype": "text/x-python",
   "name": "python",
   "nbconvert_exporter": "python",
   "pygments_lexer": "ipython3",
   "version": "3.7.6"
  }
 },
 "nbformat": 4,
 "nbformat_minor": 4
}
